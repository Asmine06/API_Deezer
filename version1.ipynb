{
 "cells": [
  {
   "cell_type": "markdown",
   "metadata": {},
   "source": [
    "Groupe: Yasmine GHANEM &&& Ruth Dubois\n",
    "\n",
    "#API Deezer"
   ]
  },
  {
   "cell_type": "code",
   "execution_count": 6,
   "metadata": {},
   "outputs": [
    {
     "name": "stdout",
     "output_type": "stream",
     "text": [
      "https://api.deezer.com/artist/27\n"
     ]
    }
   ],
   "source": [
    "url='https://api.deezer.com/artist/27'\n",
    "print(url)"
   ]
  },
  {
   "cell_type": "code",
   "execution_count": 7,
   "metadata": {},
   "outputs": [
    {
     "data": {
      "text/plain": [
       "<Response [200]>"
      ]
     },
     "execution_count": 7,
     "metadata": {},
     "output_type": "execute_result"
    }
   ],
   "source": [
    "import requests\n",
    "data = requests.get(url)\n",
    "data "
   ]
  },
  {
   "cell_type": "code",
   "execution_count": 8,
   "metadata": {},
   "outputs": [
    {
     "data": {
      "text/plain": [
       "{'Date': 'Wed, 06 Jan 2021 14:35:33 GMT', 'Server': 'Apache', 'Access-Control-Allow-Headers': 'X-Requested-With, Content-Type, Authorization, Origin, Accept, Accept-Encoding', 'Access-Control-Allow-Methods': 'POST, GET, OPTIONS, DELETE, PUT', 'Access-Control-Allow-Credentials': 'true', 'Access-Control-Expose-Headers': 'Location', 'Access-Control-Max-Age': '86400', 'P3P': 'policyref=\"/w3c/p3p.xml\" CP=\"IDC DSP COR CURa ADMa OUR IND PHY ONL COM STA\"', 'Set-Cookie': 'dzr_uniq_id=dzr_uniq_id_frb58019c10e3306f8acf215b8c3235b94877a3b; expires=Mon, 05-Jul-2021 14:35:33 GMT; Max-Age=15552000; path=/; domain=.deezer.com; secure; HttpOnly; SameSite=None', 'Vary': 'Accept-Encoding,Origin', 'Content-Encoding': 'gzip', 'X-Host': 'blm-web-151', 'X-Content-Type-Options': 'nosniff', 'Content-Length': '336', 'Content-Type': 'application/json; charset=utf-8'}"
      ]
     },
     "execution_count": 8,
     "metadata": {},
     "output_type": "execute_result"
    }
   ],
   "source": [
    "data.headers"
   ]
  },
  {
   "cell_type": "code",
   "execution_count": 9,
   "metadata": {},
   "outputs": [
    {
     "data": {
      "text/plain": [
       "{'id': 27,\n",
       " 'name': 'Daft Punk',\n",
       " 'link': 'https://www.deezer.com/artist/27',\n",
       " 'share': 'https://www.deezer.com/artist/27?utm_source=deezer&utm_content=artist-27&utm_term=0_1609943733&utm_medium=web',\n",
       " 'picture': 'https://api.deezer.com/artist/27/image',\n",
       " 'picture_small': 'https://e-cdns-images.dzcdn.net/images/artist/f2bc007e9133c946ac3c3907ddc5d2ea/56x56-000000-80-0-0.jpg',\n",
       " 'picture_medium': 'https://e-cdns-images.dzcdn.net/images/artist/f2bc007e9133c946ac3c3907ddc5d2ea/250x250-000000-80-0-0.jpg',\n",
       " 'picture_big': 'https://e-cdns-images.dzcdn.net/images/artist/f2bc007e9133c946ac3c3907ddc5d2ea/500x500-000000-80-0-0.jpg',\n",
       " 'picture_xl': 'https://e-cdns-images.dzcdn.net/images/artist/f2bc007e9133c946ac3c3907ddc5d2ea/1000x1000-000000-80-0-0.jpg',\n",
       " 'nb_album': 33,\n",
       " 'nb_fan': 3888826,\n",
       " 'radio': True,\n",
       " 'tracklist': 'https://api.deezer.com/artist/27/top?limit=50',\n",
       " 'type': 'artist'}"
      ]
     },
     "execution_count": 9,
     "metadata": {},
     "output_type": "execute_result"
    }
   ],
   "source": [
    "import json \n",
    "Dico = json.loads(data.content)\n",
    "Dico"
   ]
  },
  {
   "cell_type": "code",
   "execution_count": 11,
   "metadata": {},
   "outputs": [
    {
     "name": "stderr",
     "output_type": "stream",
     "text": [
      "<ipython-input-11-0f90ead87631>:2: FutureWarning: pandas.io.json.json_normalize is deprecated, use pandas.json_normalize instead\n",
      "  dataSet = json_normalize (Dico)\n"
     ]
    },
    {
     "data": {
      "text/html": [
       "<div>\n",
       "<style scoped>\n",
       "    .dataframe tbody tr th:only-of-type {\n",
       "        vertical-align: middle;\n",
       "    }\n",
       "\n",
       "    .dataframe tbody tr th {\n",
       "        vertical-align: top;\n",
       "    }\n",
       "\n",
       "    .dataframe thead th {\n",
       "        text-align: right;\n",
       "    }\n",
       "</style>\n",
       "<table border=\"1\" class=\"dataframe\">\n",
       "  <thead>\n",
       "    <tr style=\"text-align: right;\">\n",
       "      <th></th>\n",
       "      <th>id</th>\n",
       "      <th>name</th>\n",
       "      <th>link</th>\n",
       "      <th>share</th>\n",
       "      <th>picture</th>\n",
       "      <th>picture_small</th>\n",
       "      <th>picture_medium</th>\n",
       "      <th>picture_big</th>\n",
       "      <th>picture_xl</th>\n",
       "      <th>nb_album</th>\n",
       "      <th>nb_fan</th>\n",
       "      <th>radio</th>\n",
       "      <th>tracklist</th>\n",
       "      <th>type</th>\n",
       "    </tr>\n",
       "  </thead>\n",
       "  <tbody>\n",
       "    <tr>\n",
       "      <th>0</th>\n",
       "      <td>27</td>\n",
       "      <td>Daft Punk</td>\n",
       "      <td>https://www.deezer.com/artist/27</td>\n",
       "      <td>https://www.deezer.com/artist/27?utm_source=de...</td>\n",
       "      <td>https://api.deezer.com/artist/27/image</td>\n",
       "      <td>https://e-cdns-images.dzcdn.net/images/artist/...</td>\n",
       "      <td>https://e-cdns-images.dzcdn.net/images/artist/...</td>\n",
       "      <td>https://e-cdns-images.dzcdn.net/images/artist/...</td>\n",
       "      <td>https://e-cdns-images.dzcdn.net/images/artist/...</td>\n",
       "      <td>33</td>\n",
       "      <td>3888826</td>\n",
       "      <td>True</td>\n",
       "      <td>https://api.deezer.com/artist/27/top?limit=50</td>\n",
       "      <td>artist</td>\n",
       "    </tr>\n",
       "  </tbody>\n",
       "</table>\n",
       "</div>"
      ],
      "text/plain": [
       "   id       name                              link  \\\n",
       "0  27  Daft Punk  https://www.deezer.com/artist/27   \n",
       "\n",
       "                                               share  \\\n",
       "0  https://www.deezer.com/artist/27?utm_source=de...   \n",
       "\n",
       "                                  picture  \\\n",
       "0  https://api.deezer.com/artist/27/image   \n",
       "\n",
       "                                       picture_small  \\\n",
       "0  https://e-cdns-images.dzcdn.net/images/artist/...   \n",
       "\n",
       "                                      picture_medium  \\\n",
       "0  https://e-cdns-images.dzcdn.net/images/artist/...   \n",
       "\n",
       "                                         picture_big  \\\n",
       "0  https://e-cdns-images.dzcdn.net/images/artist/...   \n",
       "\n",
       "                                          picture_xl  nb_album   nb_fan  \\\n",
       "0  https://e-cdns-images.dzcdn.net/images/artist/...        33  3888826   \n",
       "\n",
       "   radio                                      tracklist    type  \n",
       "0   True  https://api.deezer.com/artist/27/top?limit=50  artist  "
      ]
     },
     "execution_count": 11,
     "metadata": {},
     "output_type": "execute_result"
    }
   ],
   "source": [
    "from pandas.io.json import json_normalize\n",
    "dataSet = json_normalize (Dico)\n",
    "dataSet"
   ]
  },
  {
   "cell_type": "code",
   "execution_count": 4,
   "metadata": {},
   "outputs": [
    {
     "ename": "OperationalError",
     "evalue": "('08001', \"[08001] [Microsoft][ODBC SQL Server Driver][DBMSLPCN]SQL Server n'existe pas ou son accès est refusé. (17) (SQLDriverConnect); [08001] [Microsoft][ODBC SQL Server Driver][DBMSLPCN]ConnectionOpen (Connect()). (67)\")",
     "output_type": "error",
     "traceback": [
      "\u001b[1;31m---------------------------------------------------------------------------\u001b[0m",
      "\u001b[1;31mOperationalError\u001b[0m                          Traceback (most recent call last)",
      "\u001b[1;32m<ipython-input-4-075be2b95e37>\u001b[0m in \u001b[0;36m<module>\u001b[1;34m\u001b[0m\n\u001b[0;32m      1\u001b[0m \u001b[1;32mimport\u001b[0m \u001b[0mpyodbc\u001b[0m\u001b[1;33m\u001b[0m\u001b[1;33m\u001b[0m\u001b[0m\n\u001b[1;32m----> 2\u001b[1;33m conn = pyodbc.connect('Driver={SQL Server};'\n\u001b[0m\u001b[0;32m      3\u001b[0m                \u001b[1;34m'Server=LAT3510-2-YASMI\\SQLEXPRESS;'\u001b[0m\u001b[1;33m\u001b[0m\u001b[1;33m\u001b[0m\u001b[0m\n\u001b[0;32m      4\u001b[0m                \u001b[1;34m'Database=TP_API;'\u001b[0m\u001b[1;33m\u001b[0m\u001b[1;33m\u001b[0m\u001b[0m\n\u001b[0;32m      5\u001b[0m                'Trusted_Connection=yes;')\n",
      "\u001b[1;31mOperationalError\u001b[0m: ('08001', \"[08001] [Microsoft][ODBC SQL Server Driver][DBMSLPCN]SQL Server n'existe pas ou son accès est refusé. (17) (SQLDriverConnect); [08001] [Microsoft][ODBC SQL Server Driver][DBMSLPCN]ConnectionOpen (Connect()). (67)\")"
     ]
    }
   ],
   "source": [
    "import pyodbc\n",
    "conn = pyodbc.connect('Driver={SQL Server};'\n",
    "               'Server=LAT3510-2-YASMI\\SQLEXPRESS;'\n",
    "               'Database=TP_API;'\n",
    "               'Trusted_Connection=yes;')"
   ]
  },
  {
   "cell_type": "code",
   "execution_count": null,
   "metadata": {},
   "outputs": [],
   "source": [
    "cursor = conn.cursor()\n",
    "for i in range (len(data)):\n",
    "    dataseta=[tuple(data[i].values())]\n",
    "    cursor.executemany(\"INSERT INTO tabArtiste (IdArtist, NomArtist,link,picture,nb_album,nb_fan,radio ) VALUES (?,?,?,?,?,?,?)\", dataseta)\n",
    "    conn.commit()"
   ]
  }
 ],
 "metadata": {
  "kernelspec": {
   "display_name": "Python 3",
   "language": "python",
   "name": "python3"
  },
  "language_info": {
   "codemirror_mode": {
    "name": "ipython",
    "version": 3
   },
   "file_extension": ".py",
   "mimetype": "text/x-python",
   "name": "python",
   "nbconvert_exporter": "python",
   "pygments_lexer": "ipython3",
   "version": "3.8.3"
  }
 },
 "nbformat": 4,
 "nbformat_minor": 4
}
